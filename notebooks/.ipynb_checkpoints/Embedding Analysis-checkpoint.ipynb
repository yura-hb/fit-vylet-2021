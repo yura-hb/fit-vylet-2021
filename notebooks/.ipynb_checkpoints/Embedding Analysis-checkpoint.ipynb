{
 "cells": [
  {
   "cell_type": "code",
   "execution_count": null,
   "id": "d290a61e-8fbe-4963-bff5-264b0acdd193",
   "metadata": {},
   "outputs": [],
   "source": [
    "%load_ext autoreload\n",
    "%autoreload 2\n",
    "%matplotlib inline"
   ]
  },
  {
   "cell_type": "code",
   "execution_count": null,
   "id": "73ee0eb5-061c-4450-b299-f7727fdbb3e2",
   "metadata": {},
   "outputs": [],
   "source": [
    "import matplotlib.pyplot as plt\n",
    "import numpy as np"
   ]
  },
  {
   "cell_type": "code",
   "execution_count": null,
   "id": "ef8583de-2ab1-4ce1-802e-074e57a28a02",
   "metadata": {},
   "outputs": [],
   "source": [
    "from codevec.utils import Analyzer\n",
    "from codevec.models.Transformer import *\n",
    "from codevec.utils.Features import *\n",
    "\n",
    "config = Transformer.Config('bert-base-cased', 'bert-base-cased', True, model_args = { 'output_hidden_states': True }, autograd = False)\n",
    "bert_model = Transformer(config)"
   ]
  },
  {
   "cell_type": "code",
   "execution_count": null,
   "id": "d39c5051-bbd1-4f49-9c78-20ddbe448e00",
   "metadata": {},
   "outputs": [],
   "source": [
    "analyzer = Analyzer()"
   ]
  },
  {
   "cell_type": "code",
   "execution_count": null,
   "id": "4527e071-2427-499f-aa65-e203f28ef815",
   "metadata": {},
   "outputs": [],
   "source": [
    "text = \"\"\"\n",
    "import Foundation\n",
    "import Photos\n",
    "import Foundation\n",
    "import Photos\n",
    "import Foundation\n",
    "import Photos\n",
    "import Foundation\n",
    "import Photos\n",
    "import Foundation\n",
    "import Photos\n",
    "import Foundation\n",
    "import Photos\n",
    "import Foundation\n",
    "import Photos\n",
    "import Foundation\n",
    "import Photos\n",
    "\n",
    "extension AVAsset {\n",
    "  var durationInSec: Float {\n",
    "    guard duration.timescale > 0 else {\n",
    "      return 0.0\n",
    "    }\n",
    "    return Float(duration.value) / Float(duration.timescale)\n",
    "  }\n",
    "}\n",
    "\n",
    "extension AVAsset {\n",
    "  var durationInSec: Float {\n",
    "    guard duration.timescale > 0 else {\n",
    "      return 0.0\n",
    "    }\n",
    "    return Float(duration.value) / Float(duration.timescale)\n",
    "  }\n",
    "}\n",
    "\"\"\"\n",
    "features = bert_model.tokenize(text)\n",
    "embedded = bert_model(features)\n",
    "\n",
    "tokens = bert_model.tokenizer.convert_ids_to_tokens(features.input_ids[0])\n",
    "\n",
    "print(embedded.token_embeddings.shape)\n",
    "print(embedded.hidden_states[0].shape)"
   ]
  },
  {
   "cell_type": "code",
   "execution_count": null,
   "id": "7ec0c5cb-cabe-49cd-84b4-328bc2d05bca",
   "metadata": {},
   "outputs": [],
   "source": [
    "for i in range(len(embedded.hidden_states)):\n",
    "    print(i)\n",
    "    similarity = next(analyzer.cosine_sim_sentence(embedded, layer = i))\n",
    "\n",
    "    analyzer.plot_heatmap(similarity, tokens, tokens)\n",
    "    plt.savefig('test_' + str(i) + '.png')"
   ]
  },
  {
   "cell_type": "code",
   "execution_count": null,
   "id": "fe56bde8-25ca-4d4c-99a1-d3db34ba6b3f",
   "metadata": {},
   "outputs": [],
   "source": [
    "from sklearn.decomposition import PCA\n",
    "\n",
    "vectors = next(analyzer.pca(embedded))\n",
    "\n",
    "axis = analyzer.plot_scatter(vectors[:, :2], tokens, normalize = True)\n",
    "analyzer.plot_scatter(vectors[:, :2], tokens, normalize = True, axis = axis)\n",
    "\n",
    "plt.show()"
   ]
  }
 ],
 "metadata": {
  "kernelspec": {
   "display_name": "Python 3 (ipykernel)",
   "language": "python",
   "name": "python3"
  },
  "language_info": {
   "codemirror_mode": {
    "name": "ipython",
    "version": 3
   },
   "file_extension": ".py",
   "mimetype": "text/x-python",
   "name": "python",
   "nbconvert_exporter": "python",
   "pygments_lexer": "ipython3",
   "version": "3.9.5"
  }
 },
 "nbformat": 4,
 "nbformat_minor": 5
}
